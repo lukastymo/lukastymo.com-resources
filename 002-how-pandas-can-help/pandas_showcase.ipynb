{
 "cells": [
  {
   "cell_type": "markdown",
   "source": [
    "# Pandas showcase for simple Data Analysis (for beginners)"
   ],
   "metadata": {
    "collapsed": false
   },
   "id": "7063176407180e57"
  },
  {
   "cell_type": "markdown",
   "source": [
    "The goal for this blog post is to get you interested in Python and Pandas. Showing you that you can do data cleaning and analysis without going to Excel, much more faster!\n",
    "\n",
    "Data Source:\n",
    "- https://www.kaggle.com/datasets/osmi/mental-health-in-tech-survey"
   ],
   "metadata": {
    "collapsed": false
   },
   "id": "2c328809e4a67ee3"
  },
  {
   "cell_type": "code",
   "execution_count": 109,
   "outputs": [],
   "source": [
    "import string\n",
    "from collections import Counter\n",
    "\n",
    "import nltk\n",
    "import pandas as pd\n",
    "from nltk.corpus import stopwords\n",
    "from nltk.corpus import wordnet\n",
    "from nltk.sentiment import SentimentIntensityAnalyzer\n",
    "from nltk.stem import WordNetLemmatizer\n",
    "from nltk.tokenize import word_tokenize\n"
   ],
   "metadata": {
    "collapsed": false,
    "ExecuteTime": {
     "end_time": "2023-08-26T22:13:50.265343819Z",
     "start_time": "2023-08-26T22:13:50.224429054Z"
    }
   },
   "id": "8c3d38e95f8839f2"
  },
  {
   "cell_type": "markdown",
   "source": [
    "## 1. Text Preparation"
   ],
   "metadata": {
    "collapsed": false
   },
   "id": "d187de56b6712ead"
  },
  {
   "cell_type": "code",
   "execution_count": 64,
   "outputs": [],
   "source": [
    "df = pd.read_csv('data/survey.csv')"
   ],
   "metadata": {
    "collapsed": false,
    "ExecuteTime": {
     "end_time": "2023-08-26T21:53:25.429895911Z",
     "start_time": "2023-08-26T21:53:25.367418884Z"
    }
   },
   "id": "9a0ce2234ca96edb"
  },
  {
   "cell_type": "code",
   "execution_count": 67,
   "outputs": [
    {
     "data": {
      "text/plain": "              Timestamp  Age  Gender         Country state self_employed  \\\n0   2014-08-27 11:29:31   37  Female   United States    IL           NaN   \n1   2014-08-27 11:29:37   44       M   United States    IN           NaN   \n2   2014-08-27 11:29:44   32    Male          Canada   NaN           NaN   \n3   2014-08-27 11:29:46   31    Male  United Kingdom   NaN           NaN   \n4   2014-08-27 11:30:22   31    Male   United States    TX           NaN   \n5   2014-08-27 11:31:22   33    Male   United States    TN           NaN   \n6   2014-08-27 11:31:50   35  Female   United States    MI           NaN   \n7   2014-08-27 11:32:05   39       M          Canada   NaN           NaN   \n8   2014-08-27 11:32:39   42  Female   United States    IL           NaN   \n9   2014-08-27 11:32:43   23    Male          Canada   NaN           NaN   \n10  2014-08-27 11:32:44   31    Male   United States    OH           NaN   \n11  2014-08-27 11:32:49   29    male        Bulgaria   NaN           NaN   \n12  2014-08-27 11:33:23   42  female   United States    CA           NaN   \n13  2014-08-27 11:33:26   36    Male   United States    CT           NaN   \n14  2014-08-27 11:33:57   27    Male          Canada   NaN           NaN   \n15  2014-08-27 11:34:00   29  female   United States    IL           NaN   \n16  2014-08-27 11:34:20   23    Male  United Kingdom   NaN           NaN   \n17  2014-08-27 11:34:37   32    Male   United States    TN           NaN   \n18  2014-08-27 11:34:53   46    male   United States    MD           Yes   \n19  2014-08-27 11:35:08   36    Male          France   NaN           Yes   \n\n   family_history treatment work_interfere    no_employees  ...  \\\n0              No       Yes          Often            6-25  ...   \n1              No        No         Rarely  More than 1000  ...   \n2              No        No         Rarely            6-25  ...   \n3             Yes       Yes          Often          26-100  ...   \n4              No        No          Never         100-500  ...   \n5             Yes        No      Sometimes            6-25  ...   \n6             Yes       Yes      Sometimes             1-5  ...   \n7              No        No          Never             1-5  ...   \n8             Yes       Yes      Sometimes         100-500  ...   \n9              No        No          Never          26-100  ...   \n10             No       Yes      Sometimes            6-25  ...   \n11             No        No          Never         100-500  ...   \n12            Yes       Yes      Sometimes          26-100  ...   \n13            Yes        No          Never        500-1000  ...   \n14             No        No          Never            6-25  ...   \n15            Yes       Yes         Rarely          26-100  ...   \n16             No       Yes      Sometimes          26-100  ...   \n17             No       Yes      Sometimes            6-25  ...   \n18            Yes        No      Sometimes             1-5  ...   \n19            Yes        No            NaN            6-25  ...   \n\n                 leave mental_health_consequence phys_health_consequence  \\\n0        Somewhat easy                        No                      No   \n1           Don't know                     Maybe                      No   \n2   Somewhat difficult                        No                      No   \n3   Somewhat difficult                       Yes                     Yes   \n4           Don't know                        No                      No   \n5           Don't know                        No                      No   \n6   Somewhat difficult                     Maybe                   Maybe   \n7           Don't know                        No                      No   \n8       Very difficult                     Maybe                      No   \n9           Don't know                        No                      No   \n10          Don't know                        No                      No   \n11          Don't know                        No                      No   \n12  Somewhat difficult                       Yes                     Yes   \n13          Don't know                        No                      No   \n14       Somewhat easy                        No                      No   \n15       Somewhat easy                        No                      No   \n16           Very easy                     Maybe                      No   \n17          Don't know                     Maybe                      No   \n18           Very easy                        No                      No   \n19       Somewhat easy                        No                      No   \n\n       coworkers    supervisor mental_health_interview phys_health_interview  \\\n0   Some of them           Yes                      No                 Maybe   \n1             No            No                      No                    No   \n2            Yes           Yes                     Yes                   Yes   \n3   Some of them            No                   Maybe                 Maybe   \n4   Some of them           Yes                     Yes                   Yes   \n5            Yes           Yes                      No                 Maybe   \n6   Some of them            No                      No                    No   \n7             No            No                      No                    No   \n8            Yes           Yes                      No                 Maybe   \n9            Yes           Yes                   Maybe                 Maybe   \n10  Some of them           Yes                      No                    No   \n11           Yes           Yes                     Yes                   Yes   \n12           Yes           Yes                   Maybe                 Maybe   \n13           Yes           Yes                      No                    No   \n14  Some of them  Some of them                   Maybe                   Yes   \n15           Yes  Some of them                   Maybe                 Maybe   \n16  Some of them            No                   Maybe                 Maybe   \n17  Some of them           Yes                      No                    No   \n18           Yes           Yes                      No                   Yes   \n19  Some of them  Some of them                   Maybe                 Maybe   \n\n   mental_vs_physical obs_consequence  \\\n0                 Yes              No   \n1          Don't know              No   \n2                  No              No   \n3                  No             Yes   \n4          Don't know              No   \n5          Don't know              No   \n6          Don't know              No   \n7                  No              No   \n8                  No              No   \n9                 Yes              No   \n10         Don't know              No   \n11         Don't know              No   \n12                 No             Yes   \n13         Don't know              No   \n14                Yes              No   \n15         Don't know              No   \n16                 No              No   \n17                 No              No   \n18                Yes             Yes   \n19         Don't know              No   \n\n                                             comments  \n0                                                 NaN  \n1                                                 NaN  \n2                                                 NaN  \n3                                                 NaN  \n4                                                 NaN  \n5                                                 NaN  \n6                                                 NaN  \n7                                                 NaN  \n8                                                 NaN  \n9                                                 NaN  \n10                                                NaN  \n11                                                NaN  \n12                                                NaN  \n13  I'm not on my company's health insurance which...  \n14                                                NaN  \n15  I have chronic low-level neurological issues t...  \n16  My company does provide healthcare but not to ...  \n17                                                NaN  \n18                                                NaN  \n19                                                NaN  \n\n[20 rows x 27 columns]",
      "text/html": "<div>\n<style scoped>\n    .dataframe tbody tr th:only-of-type {\n        vertical-align: middle;\n    }\n\n    .dataframe tbody tr th {\n        vertical-align: top;\n    }\n\n    .dataframe thead th {\n        text-align: right;\n    }\n</style>\n<table border=\"1\" class=\"dataframe\">\n  <thead>\n    <tr style=\"text-align: right;\">\n      <th></th>\n      <th>Timestamp</th>\n      <th>Age</th>\n      <th>Gender</th>\n      <th>Country</th>\n      <th>state</th>\n      <th>self_employed</th>\n      <th>family_history</th>\n      <th>treatment</th>\n      <th>work_interfere</th>\n      <th>no_employees</th>\n      <th>...</th>\n      <th>leave</th>\n      <th>mental_health_consequence</th>\n      <th>phys_health_consequence</th>\n      <th>coworkers</th>\n      <th>supervisor</th>\n      <th>mental_health_interview</th>\n      <th>phys_health_interview</th>\n      <th>mental_vs_physical</th>\n      <th>obs_consequence</th>\n      <th>comments</th>\n    </tr>\n  </thead>\n  <tbody>\n    <tr>\n      <th>0</th>\n      <td>2014-08-27 11:29:31</td>\n      <td>37</td>\n      <td>Female</td>\n      <td>United States</td>\n      <td>IL</td>\n      <td>NaN</td>\n      <td>No</td>\n      <td>Yes</td>\n      <td>Often</td>\n      <td>6-25</td>\n      <td>...</td>\n      <td>Somewhat easy</td>\n      <td>No</td>\n      <td>No</td>\n      <td>Some of them</td>\n      <td>Yes</td>\n      <td>No</td>\n      <td>Maybe</td>\n      <td>Yes</td>\n      <td>No</td>\n      <td>NaN</td>\n    </tr>\n    <tr>\n      <th>1</th>\n      <td>2014-08-27 11:29:37</td>\n      <td>44</td>\n      <td>M</td>\n      <td>United States</td>\n      <td>IN</td>\n      <td>NaN</td>\n      <td>No</td>\n      <td>No</td>\n      <td>Rarely</td>\n      <td>More than 1000</td>\n      <td>...</td>\n      <td>Don't know</td>\n      <td>Maybe</td>\n      <td>No</td>\n      <td>No</td>\n      <td>No</td>\n      <td>No</td>\n      <td>No</td>\n      <td>Don't know</td>\n      <td>No</td>\n      <td>NaN</td>\n    </tr>\n    <tr>\n      <th>2</th>\n      <td>2014-08-27 11:29:44</td>\n      <td>32</td>\n      <td>Male</td>\n      <td>Canada</td>\n      <td>NaN</td>\n      <td>NaN</td>\n      <td>No</td>\n      <td>No</td>\n      <td>Rarely</td>\n      <td>6-25</td>\n      <td>...</td>\n      <td>Somewhat difficult</td>\n      <td>No</td>\n      <td>No</td>\n      <td>Yes</td>\n      <td>Yes</td>\n      <td>Yes</td>\n      <td>Yes</td>\n      <td>No</td>\n      <td>No</td>\n      <td>NaN</td>\n    </tr>\n    <tr>\n      <th>3</th>\n      <td>2014-08-27 11:29:46</td>\n      <td>31</td>\n      <td>Male</td>\n      <td>United Kingdom</td>\n      <td>NaN</td>\n      <td>NaN</td>\n      <td>Yes</td>\n      <td>Yes</td>\n      <td>Often</td>\n      <td>26-100</td>\n      <td>...</td>\n      <td>Somewhat difficult</td>\n      <td>Yes</td>\n      <td>Yes</td>\n      <td>Some of them</td>\n      <td>No</td>\n      <td>Maybe</td>\n      <td>Maybe</td>\n      <td>No</td>\n      <td>Yes</td>\n      <td>NaN</td>\n    </tr>\n    <tr>\n      <th>4</th>\n      <td>2014-08-27 11:30:22</td>\n      <td>31</td>\n      <td>Male</td>\n      <td>United States</td>\n      <td>TX</td>\n      <td>NaN</td>\n      <td>No</td>\n      <td>No</td>\n      <td>Never</td>\n      <td>100-500</td>\n      <td>...</td>\n      <td>Don't know</td>\n      <td>No</td>\n      <td>No</td>\n      <td>Some of them</td>\n      <td>Yes</td>\n      <td>Yes</td>\n      <td>Yes</td>\n      <td>Don't know</td>\n      <td>No</td>\n      <td>NaN</td>\n    </tr>\n    <tr>\n      <th>5</th>\n      <td>2014-08-27 11:31:22</td>\n      <td>33</td>\n      <td>Male</td>\n      <td>United States</td>\n      <td>TN</td>\n      <td>NaN</td>\n      <td>Yes</td>\n      <td>No</td>\n      <td>Sometimes</td>\n      <td>6-25</td>\n      <td>...</td>\n      <td>Don't know</td>\n      <td>No</td>\n      <td>No</td>\n      <td>Yes</td>\n      <td>Yes</td>\n      <td>No</td>\n      <td>Maybe</td>\n      <td>Don't know</td>\n      <td>No</td>\n      <td>NaN</td>\n    </tr>\n    <tr>\n      <th>6</th>\n      <td>2014-08-27 11:31:50</td>\n      <td>35</td>\n      <td>Female</td>\n      <td>United States</td>\n      <td>MI</td>\n      <td>NaN</td>\n      <td>Yes</td>\n      <td>Yes</td>\n      <td>Sometimes</td>\n      <td>1-5</td>\n      <td>...</td>\n      <td>Somewhat difficult</td>\n      <td>Maybe</td>\n      <td>Maybe</td>\n      <td>Some of them</td>\n      <td>No</td>\n      <td>No</td>\n      <td>No</td>\n      <td>Don't know</td>\n      <td>No</td>\n      <td>NaN</td>\n    </tr>\n    <tr>\n      <th>7</th>\n      <td>2014-08-27 11:32:05</td>\n      <td>39</td>\n      <td>M</td>\n      <td>Canada</td>\n      <td>NaN</td>\n      <td>NaN</td>\n      <td>No</td>\n      <td>No</td>\n      <td>Never</td>\n      <td>1-5</td>\n      <td>...</td>\n      <td>Don't know</td>\n      <td>No</td>\n      <td>No</td>\n      <td>No</td>\n      <td>No</td>\n      <td>No</td>\n      <td>No</td>\n      <td>No</td>\n      <td>No</td>\n      <td>NaN</td>\n    </tr>\n    <tr>\n      <th>8</th>\n      <td>2014-08-27 11:32:39</td>\n      <td>42</td>\n      <td>Female</td>\n      <td>United States</td>\n      <td>IL</td>\n      <td>NaN</td>\n      <td>Yes</td>\n      <td>Yes</td>\n      <td>Sometimes</td>\n      <td>100-500</td>\n      <td>...</td>\n      <td>Very difficult</td>\n      <td>Maybe</td>\n      <td>No</td>\n      <td>Yes</td>\n      <td>Yes</td>\n      <td>No</td>\n      <td>Maybe</td>\n      <td>No</td>\n      <td>No</td>\n      <td>NaN</td>\n    </tr>\n    <tr>\n      <th>9</th>\n      <td>2014-08-27 11:32:43</td>\n      <td>23</td>\n      <td>Male</td>\n      <td>Canada</td>\n      <td>NaN</td>\n      <td>NaN</td>\n      <td>No</td>\n      <td>No</td>\n      <td>Never</td>\n      <td>26-100</td>\n      <td>...</td>\n      <td>Don't know</td>\n      <td>No</td>\n      <td>No</td>\n      <td>Yes</td>\n      <td>Yes</td>\n      <td>Maybe</td>\n      <td>Maybe</td>\n      <td>Yes</td>\n      <td>No</td>\n      <td>NaN</td>\n    </tr>\n    <tr>\n      <th>10</th>\n      <td>2014-08-27 11:32:44</td>\n      <td>31</td>\n      <td>Male</td>\n      <td>United States</td>\n      <td>OH</td>\n      <td>NaN</td>\n      <td>No</td>\n      <td>Yes</td>\n      <td>Sometimes</td>\n      <td>6-25</td>\n      <td>...</td>\n      <td>Don't know</td>\n      <td>No</td>\n      <td>No</td>\n      <td>Some of them</td>\n      <td>Yes</td>\n      <td>No</td>\n      <td>No</td>\n      <td>Don't know</td>\n      <td>No</td>\n      <td>NaN</td>\n    </tr>\n    <tr>\n      <th>11</th>\n      <td>2014-08-27 11:32:49</td>\n      <td>29</td>\n      <td>male</td>\n      <td>Bulgaria</td>\n      <td>NaN</td>\n      <td>NaN</td>\n      <td>No</td>\n      <td>No</td>\n      <td>Never</td>\n      <td>100-500</td>\n      <td>...</td>\n      <td>Don't know</td>\n      <td>No</td>\n      <td>No</td>\n      <td>Yes</td>\n      <td>Yes</td>\n      <td>Yes</td>\n      <td>Yes</td>\n      <td>Don't know</td>\n      <td>No</td>\n      <td>NaN</td>\n    </tr>\n    <tr>\n      <th>12</th>\n      <td>2014-08-27 11:33:23</td>\n      <td>42</td>\n      <td>female</td>\n      <td>United States</td>\n      <td>CA</td>\n      <td>NaN</td>\n      <td>Yes</td>\n      <td>Yes</td>\n      <td>Sometimes</td>\n      <td>26-100</td>\n      <td>...</td>\n      <td>Somewhat difficult</td>\n      <td>Yes</td>\n      <td>Yes</td>\n      <td>Yes</td>\n      <td>Yes</td>\n      <td>Maybe</td>\n      <td>Maybe</td>\n      <td>No</td>\n      <td>Yes</td>\n      <td>NaN</td>\n    </tr>\n    <tr>\n      <th>13</th>\n      <td>2014-08-27 11:33:26</td>\n      <td>36</td>\n      <td>Male</td>\n      <td>United States</td>\n      <td>CT</td>\n      <td>NaN</td>\n      <td>Yes</td>\n      <td>No</td>\n      <td>Never</td>\n      <td>500-1000</td>\n      <td>...</td>\n      <td>Don't know</td>\n      <td>No</td>\n      <td>No</td>\n      <td>Yes</td>\n      <td>Yes</td>\n      <td>No</td>\n      <td>No</td>\n      <td>Don't know</td>\n      <td>No</td>\n      <td>I'm not on my company's health insurance which...</td>\n    </tr>\n    <tr>\n      <th>14</th>\n      <td>2014-08-27 11:33:57</td>\n      <td>27</td>\n      <td>Male</td>\n      <td>Canada</td>\n      <td>NaN</td>\n      <td>NaN</td>\n      <td>No</td>\n      <td>No</td>\n      <td>Never</td>\n      <td>6-25</td>\n      <td>...</td>\n      <td>Somewhat easy</td>\n      <td>No</td>\n      <td>No</td>\n      <td>Some of them</td>\n      <td>Some of them</td>\n      <td>Maybe</td>\n      <td>Yes</td>\n      <td>Yes</td>\n      <td>No</td>\n      <td>NaN</td>\n    </tr>\n    <tr>\n      <th>15</th>\n      <td>2014-08-27 11:34:00</td>\n      <td>29</td>\n      <td>female</td>\n      <td>United States</td>\n      <td>IL</td>\n      <td>NaN</td>\n      <td>Yes</td>\n      <td>Yes</td>\n      <td>Rarely</td>\n      <td>26-100</td>\n      <td>...</td>\n      <td>Somewhat easy</td>\n      <td>No</td>\n      <td>No</td>\n      <td>Yes</td>\n      <td>Some of them</td>\n      <td>Maybe</td>\n      <td>Maybe</td>\n      <td>Don't know</td>\n      <td>No</td>\n      <td>I have chronic low-level neurological issues t...</td>\n    </tr>\n    <tr>\n      <th>16</th>\n      <td>2014-08-27 11:34:20</td>\n      <td>23</td>\n      <td>Male</td>\n      <td>United Kingdom</td>\n      <td>NaN</td>\n      <td>NaN</td>\n      <td>No</td>\n      <td>Yes</td>\n      <td>Sometimes</td>\n      <td>26-100</td>\n      <td>...</td>\n      <td>Very easy</td>\n      <td>Maybe</td>\n      <td>No</td>\n      <td>Some of them</td>\n      <td>No</td>\n      <td>Maybe</td>\n      <td>Maybe</td>\n      <td>No</td>\n      <td>No</td>\n      <td>My company does provide healthcare but not to ...</td>\n    </tr>\n    <tr>\n      <th>17</th>\n      <td>2014-08-27 11:34:37</td>\n      <td>32</td>\n      <td>Male</td>\n      <td>United States</td>\n      <td>TN</td>\n      <td>NaN</td>\n      <td>No</td>\n      <td>Yes</td>\n      <td>Sometimes</td>\n      <td>6-25</td>\n      <td>...</td>\n      <td>Don't know</td>\n      <td>Maybe</td>\n      <td>No</td>\n      <td>Some of them</td>\n      <td>Yes</td>\n      <td>No</td>\n      <td>No</td>\n      <td>No</td>\n      <td>No</td>\n      <td>NaN</td>\n    </tr>\n    <tr>\n      <th>18</th>\n      <td>2014-08-27 11:34:53</td>\n      <td>46</td>\n      <td>male</td>\n      <td>United States</td>\n      <td>MD</td>\n      <td>Yes</td>\n      <td>Yes</td>\n      <td>No</td>\n      <td>Sometimes</td>\n      <td>1-5</td>\n      <td>...</td>\n      <td>Very easy</td>\n      <td>No</td>\n      <td>No</td>\n      <td>Yes</td>\n      <td>Yes</td>\n      <td>No</td>\n      <td>Yes</td>\n      <td>Yes</td>\n      <td>Yes</td>\n      <td>NaN</td>\n    </tr>\n    <tr>\n      <th>19</th>\n      <td>2014-08-27 11:35:08</td>\n      <td>36</td>\n      <td>Male</td>\n      <td>France</td>\n      <td>NaN</td>\n      <td>Yes</td>\n      <td>Yes</td>\n      <td>No</td>\n      <td>NaN</td>\n      <td>6-25</td>\n      <td>...</td>\n      <td>Somewhat easy</td>\n      <td>No</td>\n      <td>No</td>\n      <td>Some of them</td>\n      <td>Some of them</td>\n      <td>Maybe</td>\n      <td>Maybe</td>\n      <td>Don't know</td>\n      <td>No</td>\n      <td>NaN</td>\n    </tr>\n  </tbody>\n</table>\n<p>20 rows × 27 columns</p>\n</div>"
     },
     "execution_count": 67,
     "metadata": {},
     "output_type": "execute_result"
    }
   ],
   "source": [
    "df.head(20)"
   ],
   "metadata": {
    "collapsed": false,
    "ExecuteTime": {
     "end_time": "2023-08-26T21:54:28.865124493Z",
     "start_time": "2023-08-26T21:54:28.859973196Z"
    }
   },
   "id": "27bded89147a21f8"
  },
  {
   "cell_type": "code",
   "execution_count": 73,
   "outputs": [
    {
     "data": {
      "text/plain": "              Timestamp  Age  Gender         Country state self_employed  \\\n0   2014-08-27 11:29:31   37  Female   United States    IL           NaN   \n1   2014-08-27 11:29:37   44       M   United States    IN           NaN   \n2   2014-08-27 11:29:44   32    Male          Canada   NaN           NaN   \n3   2014-08-27 11:29:46   31    Male  United Kingdom   NaN           NaN   \n4   2014-08-27 11:30:22   31    Male   United States    TX           NaN   \n5   2014-08-27 11:31:22   33    Male   United States    TN           NaN   \n6   2014-08-27 11:31:50   35  Female   United States    MI           NaN   \n7   2014-08-27 11:32:05   39       M          Canada   NaN           NaN   \n8   2014-08-27 11:32:39   42  Female   United States    IL           NaN   \n9   2014-08-27 11:32:43   23    Male          Canada   NaN           NaN   \n10  2014-08-27 11:32:44   31    Male   United States    OH           NaN   \n11  2014-08-27 11:32:49   29    male        Bulgaria   NaN           NaN   \n12  2014-08-27 11:33:23   42  female   United States    CA           NaN   \n13  2014-08-27 11:33:26   36    Male   United States    CT           NaN   \n14  2014-08-27 11:33:57   27    Male          Canada   NaN           NaN   \n15  2014-08-27 11:34:00   29  female   United States    IL           NaN   \n16  2014-08-27 11:34:20   23    Male  United Kingdom   NaN           NaN   \n17  2014-08-27 11:34:37   32    Male   United States    TN           NaN   \n18  2014-08-27 11:34:53   46    male   United States    MD           Yes   \n19  2014-08-27 11:35:08   36    Male          France   NaN           Yes   \n\n   family_history treatment work_interfere    no_employees  ...  \\\n0              No       Yes          Often            6-25  ...   \n1              No        No         Rarely  More than 1000  ...   \n2              No        No         Rarely            6-25  ...   \n3             Yes       Yes          Often          26-100  ...   \n4              No        No          Never         100-500  ...   \n5             Yes        No      Sometimes            6-25  ...   \n6             Yes       Yes      Sometimes             1-5  ...   \n7              No        No          Never             1-5  ...   \n8             Yes       Yes      Sometimes         100-500  ...   \n9              No        No          Never          26-100  ...   \n10             No       Yes      Sometimes            6-25  ...   \n11             No        No          Never         100-500  ...   \n12            Yes       Yes      Sometimes          26-100  ...   \n13            Yes        No          Never        500-1000  ...   \n14             No        No          Never            6-25  ...   \n15            Yes       Yes         Rarely          26-100  ...   \n16             No       Yes      Sometimes          26-100  ...   \n17             No       Yes      Sometimes            6-25  ...   \n18            Yes        No      Sometimes             1-5  ...   \n19            Yes        No            NaN            6-25  ...   \n\n   mental_health_consequence phys_health_consequence     coworkers  \\\n0                         No                      No  Some of them   \n1                      Maybe                      No            No   \n2                         No                      No           Yes   \n3                        Yes                     Yes  Some of them   \n4                         No                      No  Some of them   \n5                         No                      No           Yes   \n6                      Maybe                   Maybe  Some of them   \n7                         No                      No            No   \n8                      Maybe                      No           Yes   \n9                         No                      No           Yes   \n10                        No                      No  Some of them   \n11                        No                      No           Yes   \n12                       Yes                     Yes           Yes   \n13                        No                      No           Yes   \n14                        No                      No  Some of them   \n15                        No                      No           Yes   \n16                     Maybe                      No  Some of them   \n17                     Maybe                      No  Some of them   \n18                        No                      No           Yes   \n19                        No                      No  Some of them   \n\n      supervisor mental_health_interview phys_health_interview  \\\n0            Yes                      No                 Maybe   \n1             No                      No                    No   \n2            Yes                     Yes                   Yes   \n3             No                   Maybe                 Maybe   \n4            Yes                     Yes                   Yes   \n5            Yes                      No                 Maybe   \n6             No                      No                    No   \n7             No                      No                    No   \n8            Yes                      No                 Maybe   \n9            Yes                   Maybe                 Maybe   \n10           Yes                      No                    No   \n11           Yes                     Yes                   Yes   \n12           Yes                   Maybe                 Maybe   \n13           Yes                      No                    No   \n14  Some of them                   Maybe                   Yes   \n15  Some of them                   Maybe                 Maybe   \n16            No                   Maybe                 Maybe   \n17           Yes                      No                    No   \n18           Yes                      No                   Yes   \n19  Some of them                   Maybe                 Maybe   \n\n   mental_vs_physical obs_consequence  \\\n0                 Yes              No   \n1          Don't know              No   \n2                  No              No   \n3                  No             Yes   \n4          Don't know              No   \n5          Don't know              No   \n6          Don't know              No   \n7                  No              No   \n8                  No              No   \n9                 Yes              No   \n10         Don't know              No   \n11         Don't know              No   \n12                 No             Yes   \n13         Don't know              No   \n14                Yes              No   \n15         Don't know              No   \n16                 No              No   \n17                 No              No   \n18                Yes             Yes   \n19         Don't know              No   \n\n                                             comments  \\\n0                                                 NaN   \n1                                                 NaN   \n2                                                 NaN   \n3                                                 NaN   \n4                                                 NaN   \n5                                                 NaN   \n6                                                 NaN   \n7                                                 NaN   \n8                                                 NaN   \n9                                                 NaN   \n10                                                NaN   \n11                                                NaN   \n12                                                NaN   \n13  I'm not on my company's health insurance which...   \n14                                                NaN   \n15  I have chronic low-level neurological issues t...   \n16  My company does provide healthcare but not to ...   \n17                                                NaN   \n18                                                NaN   \n19                                                NaN   \n\n                                       clean_comments  \n0                                                      \n1                                                      \n2                                                      \n3                                                      \n4                                                      \n5                                                      \n6                                                      \n7                                                      \n8                                                      \n9                                                      \n10                                                     \n11                                                     \n12                                                     \n13  I'm not on my company's health insurance which...  \n14                                                     \n15  I have chronic low-level neurological issues t...  \n16  My company does provide healthcare but not to ...  \n17                                                     \n18                                                     \n19                                                     \n\n[20 rows x 28 columns]",
      "text/html": "<div>\n<style scoped>\n    .dataframe tbody tr th:only-of-type {\n        vertical-align: middle;\n    }\n\n    .dataframe tbody tr th {\n        vertical-align: top;\n    }\n\n    .dataframe thead th {\n        text-align: right;\n    }\n</style>\n<table border=\"1\" class=\"dataframe\">\n  <thead>\n    <tr style=\"text-align: right;\">\n      <th></th>\n      <th>Timestamp</th>\n      <th>Age</th>\n      <th>Gender</th>\n      <th>Country</th>\n      <th>state</th>\n      <th>self_employed</th>\n      <th>family_history</th>\n      <th>treatment</th>\n      <th>work_interfere</th>\n      <th>no_employees</th>\n      <th>...</th>\n      <th>mental_health_consequence</th>\n      <th>phys_health_consequence</th>\n      <th>coworkers</th>\n      <th>supervisor</th>\n      <th>mental_health_interview</th>\n      <th>phys_health_interview</th>\n      <th>mental_vs_physical</th>\n      <th>obs_consequence</th>\n      <th>comments</th>\n      <th>clean_comments</th>\n    </tr>\n  </thead>\n  <tbody>\n    <tr>\n      <th>0</th>\n      <td>2014-08-27 11:29:31</td>\n      <td>37</td>\n      <td>Female</td>\n      <td>United States</td>\n      <td>IL</td>\n      <td>NaN</td>\n      <td>No</td>\n      <td>Yes</td>\n      <td>Often</td>\n      <td>6-25</td>\n      <td>...</td>\n      <td>No</td>\n      <td>No</td>\n      <td>Some of them</td>\n      <td>Yes</td>\n      <td>No</td>\n      <td>Maybe</td>\n      <td>Yes</td>\n      <td>No</td>\n      <td>NaN</td>\n      <td></td>\n    </tr>\n    <tr>\n      <th>1</th>\n      <td>2014-08-27 11:29:37</td>\n      <td>44</td>\n      <td>M</td>\n      <td>United States</td>\n      <td>IN</td>\n      <td>NaN</td>\n      <td>No</td>\n      <td>No</td>\n      <td>Rarely</td>\n      <td>More than 1000</td>\n      <td>...</td>\n      <td>Maybe</td>\n      <td>No</td>\n      <td>No</td>\n      <td>No</td>\n      <td>No</td>\n      <td>No</td>\n      <td>Don't know</td>\n      <td>No</td>\n      <td>NaN</td>\n      <td></td>\n    </tr>\n    <tr>\n      <th>2</th>\n      <td>2014-08-27 11:29:44</td>\n      <td>32</td>\n      <td>Male</td>\n      <td>Canada</td>\n      <td>NaN</td>\n      <td>NaN</td>\n      <td>No</td>\n      <td>No</td>\n      <td>Rarely</td>\n      <td>6-25</td>\n      <td>...</td>\n      <td>No</td>\n      <td>No</td>\n      <td>Yes</td>\n      <td>Yes</td>\n      <td>Yes</td>\n      <td>Yes</td>\n      <td>No</td>\n      <td>No</td>\n      <td>NaN</td>\n      <td></td>\n    </tr>\n    <tr>\n      <th>3</th>\n      <td>2014-08-27 11:29:46</td>\n      <td>31</td>\n      <td>Male</td>\n      <td>United Kingdom</td>\n      <td>NaN</td>\n      <td>NaN</td>\n      <td>Yes</td>\n      <td>Yes</td>\n      <td>Often</td>\n      <td>26-100</td>\n      <td>...</td>\n      <td>Yes</td>\n      <td>Yes</td>\n      <td>Some of them</td>\n      <td>No</td>\n      <td>Maybe</td>\n      <td>Maybe</td>\n      <td>No</td>\n      <td>Yes</td>\n      <td>NaN</td>\n      <td></td>\n    </tr>\n    <tr>\n      <th>4</th>\n      <td>2014-08-27 11:30:22</td>\n      <td>31</td>\n      <td>Male</td>\n      <td>United States</td>\n      <td>TX</td>\n      <td>NaN</td>\n      <td>No</td>\n      <td>No</td>\n      <td>Never</td>\n      <td>100-500</td>\n      <td>...</td>\n      <td>No</td>\n      <td>No</td>\n      <td>Some of them</td>\n      <td>Yes</td>\n      <td>Yes</td>\n      <td>Yes</td>\n      <td>Don't know</td>\n      <td>No</td>\n      <td>NaN</td>\n      <td></td>\n    </tr>\n    <tr>\n      <th>5</th>\n      <td>2014-08-27 11:31:22</td>\n      <td>33</td>\n      <td>Male</td>\n      <td>United States</td>\n      <td>TN</td>\n      <td>NaN</td>\n      <td>Yes</td>\n      <td>No</td>\n      <td>Sometimes</td>\n      <td>6-25</td>\n      <td>...</td>\n      <td>No</td>\n      <td>No</td>\n      <td>Yes</td>\n      <td>Yes</td>\n      <td>No</td>\n      <td>Maybe</td>\n      <td>Don't know</td>\n      <td>No</td>\n      <td>NaN</td>\n      <td></td>\n    </tr>\n    <tr>\n      <th>6</th>\n      <td>2014-08-27 11:31:50</td>\n      <td>35</td>\n      <td>Female</td>\n      <td>United States</td>\n      <td>MI</td>\n      <td>NaN</td>\n      <td>Yes</td>\n      <td>Yes</td>\n      <td>Sometimes</td>\n      <td>1-5</td>\n      <td>...</td>\n      <td>Maybe</td>\n      <td>Maybe</td>\n      <td>Some of them</td>\n      <td>No</td>\n      <td>No</td>\n      <td>No</td>\n      <td>Don't know</td>\n      <td>No</td>\n      <td>NaN</td>\n      <td></td>\n    </tr>\n    <tr>\n      <th>7</th>\n      <td>2014-08-27 11:32:05</td>\n      <td>39</td>\n      <td>M</td>\n      <td>Canada</td>\n      <td>NaN</td>\n      <td>NaN</td>\n      <td>No</td>\n      <td>No</td>\n      <td>Never</td>\n      <td>1-5</td>\n      <td>...</td>\n      <td>No</td>\n      <td>No</td>\n      <td>No</td>\n      <td>No</td>\n      <td>No</td>\n      <td>No</td>\n      <td>No</td>\n      <td>No</td>\n      <td>NaN</td>\n      <td></td>\n    </tr>\n    <tr>\n      <th>8</th>\n      <td>2014-08-27 11:32:39</td>\n      <td>42</td>\n      <td>Female</td>\n      <td>United States</td>\n      <td>IL</td>\n      <td>NaN</td>\n      <td>Yes</td>\n      <td>Yes</td>\n      <td>Sometimes</td>\n      <td>100-500</td>\n      <td>...</td>\n      <td>Maybe</td>\n      <td>No</td>\n      <td>Yes</td>\n      <td>Yes</td>\n      <td>No</td>\n      <td>Maybe</td>\n      <td>No</td>\n      <td>No</td>\n      <td>NaN</td>\n      <td></td>\n    </tr>\n    <tr>\n      <th>9</th>\n      <td>2014-08-27 11:32:43</td>\n      <td>23</td>\n      <td>Male</td>\n      <td>Canada</td>\n      <td>NaN</td>\n      <td>NaN</td>\n      <td>No</td>\n      <td>No</td>\n      <td>Never</td>\n      <td>26-100</td>\n      <td>...</td>\n      <td>No</td>\n      <td>No</td>\n      <td>Yes</td>\n      <td>Yes</td>\n      <td>Maybe</td>\n      <td>Maybe</td>\n      <td>Yes</td>\n      <td>No</td>\n      <td>NaN</td>\n      <td></td>\n    </tr>\n    <tr>\n      <th>10</th>\n      <td>2014-08-27 11:32:44</td>\n      <td>31</td>\n      <td>Male</td>\n      <td>United States</td>\n      <td>OH</td>\n      <td>NaN</td>\n      <td>No</td>\n      <td>Yes</td>\n      <td>Sometimes</td>\n      <td>6-25</td>\n      <td>...</td>\n      <td>No</td>\n      <td>No</td>\n      <td>Some of them</td>\n      <td>Yes</td>\n      <td>No</td>\n      <td>No</td>\n      <td>Don't know</td>\n      <td>No</td>\n      <td>NaN</td>\n      <td></td>\n    </tr>\n    <tr>\n      <th>11</th>\n      <td>2014-08-27 11:32:49</td>\n      <td>29</td>\n      <td>male</td>\n      <td>Bulgaria</td>\n      <td>NaN</td>\n      <td>NaN</td>\n      <td>No</td>\n      <td>No</td>\n      <td>Never</td>\n      <td>100-500</td>\n      <td>...</td>\n      <td>No</td>\n      <td>No</td>\n      <td>Yes</td>\n      <td>Yes</td>\n      <td>Yes</td>\n      <td>Yes</td>\n      <td>Don't know</td>\n      <td>No</td>\n      <td>NaN</td>\n      <td></td>\n    </tr>\n    <tr>\n      <th>12</th>\n      <td>2014-08-27 11:33:23</td>\n      <td>42</td>\n      <td>female</td>\n      <td>United States</td>\n      <td>CA</td>\n      <td>NaN</td>\n      <td>Yes</td>\n      <td>Yes</td>\n      <td>Sometimes</td>\n      <td>26-100</td>\n      <td>...</td>\n      <td>Yes</td>\n      <td>Yes</td>\n      <td>Yes</td>\n      <td>Yes</td>\n      <td>Maybe</td>\n      <td>Maybe</td>\n      <td>No</td>\n      <td>Yes</td>\n      <td>NaN</td>\n      <td></td>\n    </tr>\n    <tr>\n      <th>13</th>\n      <td>2014-08-27 11:33:26</td>\n      <td>36</td>\n      <td>Male</td>\n      <td>United States</td>\n      <td>CT</td>\n      <td>NaN</td>\n      <td>Yes</td>\n      <td>No</td>\n      <td>Never</td>\n      <td>500-1000</td>\n      <td>...</td>\n      <td>No</td>\n      <td>No</td>\n      <td>Yes</td>\n      <td>Yes</td>\n      <td>No</td>\n      <td>No</td>\n      <td>Don't know</td>\n      <td>No</td>\n      <td>I'm not on my company's health insurance which...</td>\n      <td>I'm not on my company's health insurance which...</td>\n    </tr>\n    <tr>\n      <th>14</th>\n      <td>2014-08-27 11:33:57</td>\n      <td>27</td>\n      <td>Male</td>\n      <td>Canada</td>\n      <td>NaN</td>\n      <td>NaN</td>\n      <td>No</td>\n      <td>No</td>\n      <td>Never</td>\n      <td>6-25</td>\n      <td>...</td>\n      <td>No</td>\n      <td>No</td>\n      <td>Some of them</td>\n      <td>Some of them</td>\n      <td>Maybe</td>\n      <td>Yes</td>\n      <td>Yes</td>\n      <td>No</td>\n      <td>NaN</td>\n      <td></td>\n    </tr>\n    <tr>\n      <th>15</th>\n      <td>2014-08-27 11:34:00</td>\n      <td>29</td>\n      <td>female</td>\n      <td>United States</td>\n      <td>IL</td>\n      <td>NaN</td>\n      <td>Yes</td>\n      <td>Yes</td>\n      <td>Rarely</td>\n      <td>26-100</td>\n      <td>...</td>\n      <td>No</td>\n      <td>No</td>\n      <td>Yes</td>\n      <td>Some of them</td>\n      <td>Maybe</td>\n      <td>Maybe</td>\n      <td>Don't know</td>\n      <td>No</td>\n      <td>I have chronic low-level neurological issues t...</td>\n      <td>I have chronic low-level neurological issues t...</td>\n    </tr>\n    <tr>\n      <th>16</th>\n      <td>2014-08-27 11:34:20</td>\n      <td>23</td>\n      <td>Male</td>\n      <td>United Kingdom</td>\n      <td>NaN</td>\n      <td>NaN</td>\n      <td>No</td>\n      <td>Yes</td>\n      <td>Sometimes</td>\n      <td>26-100</td>\n      <td>...</td>\n      <td>Maybe</td>\n      <td>No</td>\n      <td>Some of them</td>\n      <td>No</td>\n      <td>Maybe</td>\n      <td>Maybe</td>\n      <td>No</td>\n      <td>No</td>\n      <td>My company does provide healthcare but not to ...</td>\n      <td>My company does provide healthcare but not to ...</td>\n    </tr>\n    <tr>\n      <th>17</th>\n      <td>2014-08-27 11:34:37</td>\n      <td>32</td>\n      <td>Male</td>\n      <td>United States</td>\n      <td>TN</td>\n      <td>NaN</td>\n      <td>No</td>\n      <td>Yes</td>\n      <td>Sometimes</td>\n      <td>6-25</td>\n      <td>...</td>\n      <td>Maybe</td>\n      <td>No</td>\n      <td>Some of them</td>\n      <td>Yes</td>\n      <td>No</td>\n      <td>No</td>\n      <td>No</td>\n      <td>No</td>\n      <td>NaN</td>\n      <td></td>\n    </tr>\n    <tr>\n      <th>18</th>\n      <td>2014-08-27 11:34:53</td>\n      <td>46</td>\n      <td>male</td>\n      <td>United States</td>\n      <td>MD</td>\n      <td>Yes</td>\n      <td>Yes</td>\n      <td>No</td>\n      <td>Sometimes</td>\n      <td>1-5</td>\n      <td>...</td>\n      <td>No</td>\n      <td>No</td>\n      <td>Yes</td>\n      <td>Yes</td>\n      <td>No</td>\n      <td>Yes</td>\n      <td>Yes</td>\n      <td>Yes</td>\n      <td>NaN</td>\n      <td></td>\n    </tr>\n    <tr>\n      <th>19</th>\n      <td>2014-08-27 11:35:08</td>\n      <td>36</td>\n      <td>Male</td>\n      <td>France</td>\n      <td>NaN</td>\n      <td>Yes</td>\n      <td>Yes</td>\n      <td>No</td>\n      <td>NaN</td>\n      <td>6-25</td>\n      <td>...</td>\n      <td>No</td>\n      <td>No</td>\n      <td>Some of them</td>\n      <td>Some of them</td>\n      <td>Maybe</td>\n      <td>Maybe</td>\n      <td>Don't know</td>\n      <td>No</td>\n      <td>NaN</td>\n      <td></td>\n    </tr>\n  </tbody>\n</table>\n<p>20 rows × 28 columns</p>\n</div>"
     },
     "execution_count": 73,
     "metadata": {},
     "output_type": "execute_result"
    }
   ],
   "source": [
    "df['clean_comments'] = df['comments'].fillna('')\n",
    "df.head(20)"
   ],
   "metadata": {
    "collapsed": false,
    "ExecuteTime": {
     "end_time": "2023-08-26T21:56:42.367609346Z",
     "start_time": "2023-08-26T21:56:42.321744966Z"
    }
   },
   "id": "99e122b406ed53f"
  },
  {
   "cell_type": "code",
   "execution_count": 59,
   "outputs": [
    {
     "name": "stderr",
     "output_type": "stream",
     "text": [
      "[nltk_data] Downloading package punkt to /home/lukasz/nltk_data...\n",
      "[nltk_data]   Package punkt is already up-to-date!\n",
      "[nltk_data] Downloading package wordnet to /home/lukasz/nltk_data...\n",
      "[nltk_data]   Package wordnet is already up-to-date!\n",
      "[nltk_data] Downloading package stopwords to /home/lukasz/nltk_data...\n",
      "[nltk_data]   Package stopwords is already up-to-date!\n",
      "[nltk_data] Downloading package averaged_perceptron_tagger to\n",
      "[nltk_data]     /home/lukasz/nltk_data...\n",
      "[nltk_data]   Package averaged_perceptron_tagger is already up-to-\n",
      "[nltk_data]       date!\n",
      "[nltk_data] Downloading package vader_lexicon to\n",
      "[nltk_data]     /home/lukasz/nltk_data...\n"
     ]
    },
    {
     "data": {
      "text/plain": "True"
     },
     "execution_count": 59,
     "metadata": {},
     "output_type": "execute_result"
    }
   ],
   "source": [
    "nltk.download('punkt')\n",
    "nltk.download('wordnet')\n",
    "nltk.download('stopwords')\n",
    "nltk.download('averaged_perceptron_tagger')\n",
    "nltk.download('vader_lexicon')"
   ],
   "metadata": {
    "collapsed": false,
    "ExecuteTime": {
     "end_time": "2023-08-26T21:47:38.735088024Z",
     "start_time": "2023-08-26T21:47:38.610977767Z"
    }
   },
   "id": "e19857c86b7e63e8"
  },
  {
   "cell_type": "code",
   "execution_count": 45,
   "outputs": [],
   "source": [
    "lemmatizer = WordNetLemmatizer()\n",
    "stop_words = set(stopwords.words('english'))"
   ],
   "metadata": {
    "collapsed": false,
    "ExecuteTime": {
     "end_time": "2023-08-26T21:38:11.977481427Z",
     "start_time": "2023-08-26T21:38:11.960081716Z"
    }
   },
   "id": "c691bce4883dba87"
  },
  {
   "cell_type": "code",
   "execution_count": 52,
   "outputs": [],
   "source": [
    "def get_wordnet_pos(treebank_tag):\n",
    "    \"\"\"Map POS tag to first character used by WordNetLemmatizer\"\"\"\n",
    "    if treebank_tag.startswith('J'):\n",
    "        return wordnet.ADJ\n",
    "    elif treebank_tag.startswith('V'):\n",
    "        return wordnet.VERB\n",
    "    elif treebank_tag.startswith('N'):\n",
    "        return wordnet.NOUN\n",
    "    elif treebank_tag.startswith('R'):\n",
    "        return wordnet.ADV\n",
    "    else:\n",
    "        return wordnet.NOUN  # by default, treat as noun"
   ],
   "metadata": {
    "collapsed": false,
    "ExecuteTime": {
     "end_time": "2023-08-26T21:39:18.601555635Z",
     "start_time": "2023-08-26T21:39:18.588272919Z"
    }
   },
   "id": "e80d27c374dfb7f"
  },
  {
   "cell_type": "code",
   "execution_count": 53,
   "outputs": [],
   "source": [
    "def preprocess_text(text):\n",
    "    tokens = word_tokenize(text)\n",
    "    tokens = [word.lower() for word in tokens]\n",
    "    tokens = [word for word in tokens if word.isalpha() or word in string.punctuation]\n",
    "    pos_tags = nltk.pos_tag(tokens)\n",
    "    tokens = [lemmatizer.lemmatize(word, get_wordnet_pos(pos)) for word, pos in pos_tags]\n",
    "    tokens = [word for word in tokens if word not in stop_words]\n",
    "\n",
    "    return \" \".join(tokens)\n"
   ],
   "metadata": {
    "collapsed": false,
    "ExecuteTime": {
     "end_time": "2023-08-26T21:44:27.242950291Z",
     "start_time": "2023-08-26T21:44:27.236483497Z"
    }
   },
   "id": "e2e003bc1bd0b0f8"
  },
  {
   "cell_type": "code",
   "execution_count": 74,
   "outputs": [],
   "source": [
    "df['processed_comments'] = df['clean_comments'].apply(preprocess_text)"
   ],
   "metadata": {
    "collapsed": false,
    "ExecuteTime": {
     "end_time": "2023-08-26T21:57:00.109470989Z",
     "start_time": "2023-08-26T21:56:59.778743220Z"
    }
   },
   "id": "f0dd8833312a5f88"
  },
  {
   "cell_type": "code",
   "execution_count": 76,
   "outputs": [
    {
     "data": {
      "text/plain": "              Timestamp  Age  Gender         Country state self_employed  \\\n0   2014-08-27 11:29:31   37  Female   United States    IL           NaN   \n1   2014-08-27 11:29:37   44       M   United States    IN           NaN   \n2   2014-08-27 11:29:44   32    Male          Canada   NaN           NaN   \n3   2014-08-27 11:29:46   31    Male  United Kingdom   NaN           NaN   \n4   2014-08-27 11:30:22   31    Male   United States    TX           NaN   \n5   2014-08-27 11:31:22   33    Male   United States    TN           NaN   \n6   2014-08-27 11:31:50   35  Female   United States    MI           NaN   \n7   2014-08-27 11:32:05   39       M          Canada   NaN           NaN   \n8   2014-08-27 11:32:39   42  Female   United States    IL           NaN   \n9   2014-08-27 11:32:43   23    Male          Canada   NaN           NaN   \n10  2014-08-27 11:32:44   31    Male   United States    OH           NaN   \n11  2014-08-27 11:32:49   29    male        Bulgaria   NaN           NaN   \n12  2014-08-27 11:33:23   42  female   United States    CA           NaN   \n13  2014-08-27 11:33:26   36    Male   United States    CT           NaN   \n14  2014-08-27 11:33:57   27    Male          Canada   NaN           NaN   \n15  2014-08-27 11:34:00   29  female   United States    IL           NaN   \n16  2014-08-27 11:34:20   23    Male  United Kingdom   NaN           NaN   \n17  2014-08-27 11:34:37   32    Male   United States    TN           NaN   \n18  2014-08-27 11:34:53   46    male   United States    MD           Yes   \n19  2014-08-27 11:35:08   36    Male          France   NaN           Yes   \n\n   family_history treatment work_interfere    no_employees  ...  \\\n0              No       Yes          Often            6-25  ...   \n1              No        No         Rarely  More than 1000  ...   \n2              No        No         Rarely            6-25  ...   \n3             Yes       Yes          Often          26-100  ...   \n4              No        No          Never         100-500  ...   \n5             Yes        No      Sometimes            6-25  ...   \n6             Yes       Yes      Sometimes             1-5  ...   \n7              No        No          Never             1-5  ...   \n8             Yes       Yes      Sometimes         100-500  ...   \n9              No        No          Never          26-100  ...   \n10             No       Yes      Sometimes            6-25  ...   \n11             No        No          Never         100-500  ...   \n12            Yes       Yes      Sometimes          26-100  ...   \n13            Yes        No          Never        500-1000  ...   \n14             No        No          Never            6-25  ...   \n15            Yes       Yes         Rarely          26-100  ...   \n16             No       Yes      Sometimes          26-100  ...   \n17             No       Yes      Sometimes            6-25  ...   \n18            Yes        No      Sometimes             1-5  ...   \n19            Yes        No            NaN            6-25  ...   \n\n   phys_health_consequence     coworkers    supervisor  \\\n0                       No  Some of them           Yes   \n1                       No            No            No   \n2                       No           Yes           Yes   \n3                      Yes  Some of them            No   \n4                       No  Some of them           Yes   \n5                       No           Yes           Yes   \n6                    Maybe  Some of them            No   \n7                       No            No            No   \n8                       No           Yes           Yes   \n9                       No           Yes           Yes   \n10                      No  Some of them           Yes   \n11                      No           Yes           Yes   \n12                     Yes           Yes           Yes   \n13                      No           Yes           Yes   \n14                      No  Some of them  Some of them   \n15                      No           Yes  Some of them   \n16                      No  Some of them            No   \n17                      No  Some of them           Yes   \n18                      No           Yes           Yes   \n19                      No  Some of them  Some of them   \n\n   mental_health_interview phys_health_interview mental_vs_physical  \\\n0                       No                 Maybe                Yes   \n1                       No                    No         Don't know   \n2                      Yes                   Yes                 No   \n3                    Maybe                 Maybe                 No   \n4                      Yes                   Yes         Don't know   \n5                       No                 Maybe         Don't know   \n6                       No                    No         Don't know   \n7                       No                    No                 No   \n8                       No                 Maybe                 No   \n9                    Maybe                 Maybe                Yes   \n10                      No                    No         Don't know   \n11                     Yes                   Yes         Don't know   \n12                   Maybe                 Maybe                 No   \n13                      No                    No         Don't know   \n14                   Maybe                   Yes                Yes   \n15                   Maybe                 Maybe         Don't know   \n16                   Maybe                 Maybe                 No   \n17                      No                    No                 No   \n18                      No                   Yes                Yes   \n19                   Maybe                 Maybe         Don't know   \n\n   obs_consequence                                           comments  \\\n0               No                                                NaN   \n1               No                                                NaN   \n2               No                                                NaN   \n3              Yes                                                NaN   \n4               No                                                NaN   \n5               No                                                NaN   \n6               No                                                NaN   \n7               No                                                NaN   \n8               No                                                NaN   \n9               No                                                NaN   \n10              No                                                NaN   \n11              No                                                NaN   \n12             Yes                                                NaN   \n13              No  I'm not on my company's health insurance which...   \n14              No                                                NaN   \n15              No  I have chronic low-level neurological issues t...   \n16              No  My company does provide healthcare but not to ...   \n17              No                                                NaN   \n18             Yes                                                NaN   \n19              No                                                NaN   \n\n                                       clean_comments  \\\n0                                                       \n1                                                       \n2                                                       \n3                                                       \n4                                                       \n5                                                       \n6                                                       \n7                                                       \n8                                                       \n9                                                       \n10                                                      \n11                                                      \n12                                                      \n13  I'm not on my company's health insurance which...   \n14                                                      \n15  I have chronic low-level neurological issues t...   \n16  My company does provide healthcare but not to ...   \n17                                                      \n18                                                      \n19                                                      \n\n                                   processed_comments  \n0                                                      \n1                                                      \n2                                                      \n3                                                      \n4                                                      \n5                                                      \n6                                                      \n7                                                      \n8                                                      \n9                                                      \n10                                                     \n11                                                     \n12                                                     \n13  company health insurance could part reason ans...  \n14                                                     \n15  chronic neurological issue mental health side ...  \n16  company provide healthcare contract . mental h...  \n17                                                     \n18                                                     \n19                                                     \n\n[20 rows x 29 columns]",
      "text/html": "<div>\n<style scoped>\n    .dataframe tbody tr th:only-of-type {\n        vertical-align: middle;\n    }\n\n    .dataframe tbody tr th {\n        vertical-align: top;\n    }\n\n    .dataframe thead th {\n        text-align: right;\n    }\n</style>\n<table border=\"1\" class=\"dataframe\">\n  <thead>\n    <tr style=\"text-align: right;\">\n      <th></th>\n      <th>Timestamp</th>\n      <th>Age</th>\n      <th>Gender</th>\n      <th>Country</th>\n      <th>state</th>\n      <th>self_employed</th>\n      <th>family_history</th>\n      <th>treatment</th>\n      <th>work_interfere</th>\n      <th>no_employees</th>\n      <th>...</th>\n      <th>phys_health_consequence</th>\n      <th>coworkers</th>\n      <th>supervisor</th>\n      <th>mental_health_interview</th>\n      <th>phys_health_interview</th>\n      <th>mental_vs_physical</th>\n      <th>obs_consequence</th>\n      <th>comments</th>\n      <th>clean_comments</th>\n      <th>processed_comments</th>\n    </tr>\n  </thead>\n  <tbody>\n    <tr>\n      <th>0</th>\n      <td>2014-08-27 11:29:31</td>\n      <td>37</td>\n      <td>Female</td>\n      <td>United States</td>\n      <td>IL</td>\n      <td>NaN</td>\n      <td>No</td>\n      <td>Yes</td>\n      <td>Often</td>\n      <td>6-25</td>\n      <td>...</td>\n      <td>No</td>\n      <td>Some of them</td>\n      <td>Yes</td>\n      <td>No</td>\n      <td>Maybe</td>\n      <td>Yes</td>\n      <td>No</td>\n      <td>NaN</td>\n      <td></td>\n      <td></td>\n    </tr>\n    <tr>\n      <th>1</th>\n      <td>2014-08-27 11:29:37</td>\n      <td>44</td>\n      <td>M</td>\n      <td>United States</td>\n      <td>IN</td>\n      <td>NaN</td>\n      <td>No</td>\n      <td>No</td>\n      <td>Rarely</td>\n      <td>More than 1000</td>\n      <td>...</td>\n      <td>No</td>\n      <td>No</td>\n      <td>No</td>\n      <td>No</td>\n      <td>No</td>\n      <td>Don't know</td>\n      <td>No</td>\n      <td>NaN</td>\n      <td></td>\n      <td></td>\n    </tr>\n    <tr>\n      <th>2</th>\n      <td>2014-08-27 11:29:44</td>\n      <td>32</td>\n      <td>Male</td>\n      <td>Canada</td>\n      <td>NaN</td>\n      <td>NaN</td>\n      <td>No</td>\n      <td>No</td>\n      <td>Rarely</td>\n      <td>6-25</td>\n      <td>...</td>\n      <td>No</td>\n      <td>Yes</td>\n      <td>Yes</td>\n      <td>Yes</td>\n      <td>Yes</td>\n      <td>No</td>\n      <td>No</td>\n      <td>NaN</td>\n      <td></td>\n      <td></td>\n    </tr>\n    <tr>\n      <th>3</th>\n      <td>2014-08-27 11:29:46</td>\n      <td>31</td>\n      <td>Male</td>\n      <td>United Kingdom</td>\n      <td>NaN</td>\n      <td>NaN</td>\n      <td>Yes</td>\n      <td>Yes</td>\n      <td>Often</td>\n      <td>26-100</td>\n      <td>...</td>\n      <td>Yes</td>\n      <td>Some of them</td>\n      <td>No</td>\n      <td>Maybe</td>\n      <td>Maybe</td>\n      <td>No</td>\n      <td>Yes</td>\n      <td>NaN</td>\n      <td></td>\n      <td></td>\n    </tr>\n    <tr>\n      <th>4</th>\n      <td>2014-08-27 11:30:22</td>\n      <td>31</td>\n      <td>Male</td>\n      <td>United States</td>\n      <td>TX</td>\n      <td>NaN</td>\n      <td>No</td>\n      <td>No</td>\n      <td>Never</td>\n      <td>100-500</td>\n      <td>...</td>\n      <td>No</td>\n      <td>Some of them</td>\n      <td>Yes</td>\n      <td>Yes</td>\n      <td>Yes</td>\n      <td>Don't know</td>\n      <td>No</td>\n      <td>NaN</td>\n      <td></td>\n      <td></td>\n    </tr>\n    <tr>\n      <th>5</th>\n      <td>2014-08-27 11:31:22</td>\n      <td>33</td>\n      <td>Male</td>\n      <td>United States</td>\n      <td>TN</td>\n      <td>NaN</td>\n      <td>Yes</td>\n      <td>No</td>\n      <td>Sometimes</td>\n      <td>6-25</td>\n      <td>...</td>\n      <td>No</td>\n      <td>Yes</td>\n      <td>Yes</td>\n      <td>No</td>\n      <td>Maybe</td>\n      <td>Don't know</td>\n      <td>No</td>\n      <td>NaN</td>\n      <td></td>\n      <td></td>\n    </tr>\n    <tr>\n      <th>6</th>\n      <td>2014-08-27 11:31:50</td>\n      <td>35</td>\n      <td>Female</td>\n      <td>United States</td>\n      <td>MI</td>\n      <td>NaN</td>\n      <td>Yes</td>\n      <td>Yes</td>\n      <td>Sometimes</td>\n      <td>1-5</td>\n      <td>...</td>\n      <td>Maybe</td>\n      <td>Some of them</td>\n      <td>No</td>\n      <td>No</td>\n      <td>No</td>\n      <td>Don't know</td>\n      <td>No</td>\n      <td>NaN</td>\n      <td></td>\n      <td></td>\n    </tr>\n    <tr>\n      <th>7</th>\n      <td>2014-08-27 11:32:05</td>\n      <td>39</td>\n      <td>M</td>\n      <td>Canada</td>\n      <td>NaN</td>\n      <td>NaN</td>\n      <td>No</td>\n      <td>No</td>\n      <td>Never</td>\n      <td>1-5</td>\n      <td>...</td>\n      <td>No</td>\n      <td>No</td>\n      <td>No</td>\n      <td>No</td>\n      <td>No</td>\n      <td>No</td>\n      <td>No</td>\n      <td>NaN</td>\n      <td></td>\n      <td></td>\n    </tr>\n    <tr>\n      <th>8</th>\n      <td>2014-08-27 11:32:39</td>\n      <td>42</td>\n      <td>Female</td>\n      <td>United States</td>\n      <td>IL</td>\n      <td>NaN</td>\n      <td>Yes</td>\n      <td>Yes</td>\n      <td>Sometimes</td>\n      <td>100-500</td>\n      <td>...</td>\n      <td>No</td>\n      <td>Yes</td>\n      <td>Yes</td>\n      <td>No</td>\n      <td>Maybe</td>\n      <td>No</td>\n      <td>No</td>\n      <td>NaN</td>\n      <td></td>\n      <td></td>\n    </tr>\n    <tr>\n      <th>9</th>\n      <td>2014-08-27 11:32:43</td>\n      <td>23</td>\n      <td>Male</td>\n      <td>Canada</td>\n      <td>NaN</td>\n      <td>NaN</td>\n      <td>No</td>\n      <td>No</td>\n      <td>Never</td>\n      <td>26-100</td>\n      <td>...</td>\n      <td>No</td>\n      <td>Yes</td>\n      <td>Yes</td>\n      <td>Maybe</td>\n      <td>Maybe</td>\n      <td>Yes</td>\n      <td>No</td>\n      <td>NaN</td>\n      <td></td>\n      <td></td>\n    </tr>\n    <tr>\n      <th>10</th>\n      <td>2014-08-27 11:32:44</td>\n      <td>31</td>\n      <td>Male</td>\n      <td>United States</td>\n      <td>OH</td>\n      <td>NaN</td>\n      <td>No</td>\n      <td>Yes</td>\n      <td>Sometimes</td>\n      <td>6-25</td>\n      <td>...</td>\n      <td>No</td>\n      <td>Some of them</td>\n      <td>Yes</td>\n      <td>No</td>\n      <td>No</td>\n      <td>Don't know</td>\n      <td>No</td>\n      <td>NaN</td>\n      <td></td>\n      <td></td>\n    </tr>\n    <tr>\n      <th>11</th>\n      <td>2014-08-27 11:32:49</td>\n      <td>29</td>\n      <td>male</td>\n      <td>Bulgaria</td>\n      <td>NaN</td>\n      <td>NaN</td>\n      <td>No</td>\n      <td>No</td>\n      <td>Never</td>\n      <td>100-500</td>\n      <td>...</td>\n      <td>No</td>\n      <td>Yes</td>\n      <td>Yes</td>\n      <td>Yes</td>\n      <td>Yes</td>\n      <td>Don't know</td>\n      <td>No</td>\n      <td>NaN</td>\n      <td></td>\n      <td></td>\n    </tr>\n    <tr>\n      <th>12</th>\n      <td>2014-08-27 11:33:23</td>\n      <td>42</td>\n      <td>female</td>\n      <td>United States</td>\n      <td>CA</td>\n      <td>NaN</td>\n      <td>Yes</td>\n      <td>Yes</td>\n      <td>Sometimes</td>\n      <td>26-100</td>\n      <td>...</td>\n      <td>Yes</td>\n      <td>Yes</td>\n      <td>Yes</td>\n      <td>Maybe</td>\n      <td>Maybe</td>\n      <td>No</td>\n      <td>Yes</td>\n      <td>NaN</td>\n      <td></td>\n      <td></td>\n    </tr>\n    <tr>\n      <th>13</th>\n      <td>2014-08-27 11:33:26</td>\n      <td>36</td>\n      <td>Male</td>\n      <td>United States</td>\n      <td>CT</td>\n      <td>NaN</td>\n      <td>Yes</td>\n      <td>No</td>\n      <td>Never</td>\n      <td>500-1000</td>\n      <td>...</td>\n      <td>No</td>\n      <td>Yes</td>\n      <td>Yes</td>\n      <td>No</td>\n      <td>No</td>\n      <td>Don't know</td>\n      <td>No</td>\n      <td>I'm not on my company's health insurance which...</td>\n      <td>I'm not on my company's health insurance which...</td>\n      <td>company health insurance could part reason ans...</td>\n    </tr>\n    <tr>\n      <th>14</th>\n      <td>2014-08-27 11:33:57</td>\n      <td>27</td>\n      <td>Male</td>\n      <td>Canada</td>\n      <td>NaN</td>\n      <td>NaN</td>\n      <td>No</td>\n      <td>No</td>\n      <td>Never</td>\n      <td>6-25</td>\n      <td>...</td>\n      <td>No</td>\n      <td>Some of them</td>\n      <td>Some of them</td>\n      <td>Maybe</td>\n      <td>Yes</td>\n      <td>Yes</td>\n      <td>No</td>\n      <td>NaN</td>\n      <td></td>\n      <td></td>\n    </tr>\n    <tr>\n      <th>15</th>\n      <td>2014-08-27 11:34:00</td>\n      <td>29</td>\n      <td>female</td>\n      <td>United States</td>\n      <td>IL</td>\n      <td>NaN</td>\n      <td>Yes</td>\n      <td>Yes</td>\n      <td>Rarely</td>\n      <td>26-100</td>\n      <td>...</td>\n      <td>No</td>\n      <td>Yes</td>\n      <td>Some of them</td>\n      <td>Maybe</td>\n      <td>Maybe</td>\n      <td>Don't know</td>\n      <td>No</td>\n      <td>I have chronic low-level neurological issues t...</td>\n      <td>I have chronic low-level neurological issues t...</td>\n      <td>chronic neurological issue mental health side ...</td>\n    </tr>\n    <tr>\n      <th>16</th>\n      <td>2014-08-27 11:34:20</td>\n      <td>23</td>\n      <td>Male</td>\n      <td>United Kingdom</td>\n      <td>NaN</td>\n      <td>NaN</td>\n      <td>No</td>\n      <td>Yes</td>\n      <td>Sometimes</td>\n      <td>26-100</td>\n      <td>...</td>\n      <td>No</td>\n      <td>Some of them</td>\n      <td>No</td>\n      <td>Maybe</td>\n      <td>Maybe</td>\n      <td>No</td>\n      <td>No</td>\n      <td>My company does provide healthcare but not to ...</td>\n      <td>My company does provide healthcare but not to ...</td>\n      <td>company provide healthcare contract . mental h...</td>\n    </tr>\n    <tr>\n      <th>17</th>\n      <td>2014-08-27 11:34:37</td>\n      <td>32</td>\n      <td>Male</td>\n      <td>United States</td>\n      <td>TN</td>\n      <td>NaN</td>\n      <td>No</td>\n      <td>Yes</td>\n      <td>Sometimes</td>\n      <td>6-25</td>\n      <td>...</td>\n      <td>No</td>\n      <td>Some of them</td>\n      <td>Yes</td>\n      <td>No</td>\n      <td>No</td>\n      <td>No</td>\n      <td>No</td>\n      <td>NaN</td>\n      <td></td>\n      <td></td>\n    </tr>\n    <tr>\n      <th>18</th>\n      <td>2014-08-27 11:34:53</td>\n      <td>46</td>\n      <td>male</td>\n      <td>United States</td>\n      <td>MD</td>\n      <td>Yes</td>\n      <td>Yes</td>\n      <td>No</td>\n      <td>Sometimes</td>\n      <td>1-5</td>\n      <td>...</td>\n      <td>No</td>\n      <td>Yes</td>\n      <td>Yes</td>\n      <td>No</td>\n      <td>Yes</td>\n      <td>Yes</td>\n      <td>Yes</td>\n      <td>NaN</td>\n      <td></td>\n      <td></td>\n    </tr>\n    <tr>\n      <th>19</th>\n      <td>2014-08-27 11:35:08</td>\n      <td>36</td>\n      <td>Male</td>\n      <td>France</td>\n      <td>NaN</td>\n      <td>Yes</td>\n      <td>Yes</td>\n      <td>No</td>\n      <td>NaN</td>\n      <td>6-25</td>\n      <td>...</td>\n      <td>No</td>\n      <td>Some of them</td>\n      <td>Some of them</td>\n      <td>Maybe</td>\n      <td>Maybe</td>\n      <td>Don't know</td>\n      <td>No</td>\n      <td>NaN</td>\n      <td></td>\n      <td></td>\n    </tr>\n  </tbody>\n</table>\n<p>20 rows × 29 columns</p>\n</div>"
     },
     "execution_count": 76,
     "metadata": {},
     "output_type": "execute_result"
    }
   ],
   "source": [
    "df.head(20)"
   ],
   "metadata": {
    "collapsed": false,
    "ExecuteTime": {
     "end_time": "2023-08-26T21:57:07.588568538Z",
     "start_time": "2023-08-26T21:57:07.546036805Z"
    }
   },
   "id": "dc735ad9fe4dfafa"
  },
  {
   "cell_type": "markdown",
   "source": [
    "## 2. Analyze data"
   ],
   "metadata": {
    "collapsed": false
   },
   "id": "f690ce7b5996bb18"
  },
  {
   "cell_type": "markdown",
   "source": [
    "### 2.1. Sentiment"
   ],
   "metadata": {
    "collapsed": false
   },
   "id": "9d27364f7e6631ae"
  },
  {
   "cell_type": "code",
   "execution_count": 60,
   "outputs": [],
   "source": [
    "sia = SentimentIntensityAnalyzer()"
   ],
   "metadata": {
    "collapsed": false,
    "ExecuteTime": {
     "end_time": "2023-08-26T21:48:07.637352327Z",
     "start_time": "2023-08-26T21:48:07.592411773Z"
    }
   },
   "id": "763edf5df9b639b0"
  },
  {
   "cell_type": "code",
   "execution_count": 61,
   "outputs": [],
   "source": [
    "def get_sentiment(text):\n",
    "    sentiment_score = sia.polarity_scores(text)['compound']\n",
    "    if sentiment_score >= 0.05:\n",
    "        return \"positive\"\n",
    "    elif sentiment_score <= -0.05:\n",
    "        return \"negative\"\n",
    "    else:\n",
    "        return \"neutral\""
   ],
   "metadata": {
    "collapsed": false,
    "ExecuteTime": {
     "end_time": "2023-08-26T21:48:13.247895358Z",
     "start_time": "2023-08-26T21:48:13.231299225Z"
    }
   },
   "id": "1b38b2af452a27c4"
  },
  {
   "cell_type": "code",
   "execution_count": 77,
   "outputs": [],
   "source": [
    "df['sentiment_comments'] = df['processed_comments'].apply(get_sentiment)"
   ],
   "metadata": {
    "collapsed": false,
    "ExecuteTime": {
     "end_time": "2023-08-26T21:57:25.861727521Z",
     "start_time": "2023-08-26T21:57:25.833217075Z"
    }
   },
   "id": "3c9ef48e91e23fb3"
  },
  {
   "cell_type": "code",
   "execution_count": 80,
   "outputs": [
    {
     "data": {
      "text/plain": "                                             comments  \\\n0                                                 NaN   \n1                                                 NaN   \n2                                                 NaN   \n3                                                 NaN   \n4                                                 NaN   \n5                                                 NaN   \n6                                                 NaN   \n7                                                 NaN   \n8                                                 NaN   \n9                                                 NaN   \n10                                                NaN   \n11                                                NaN   \n12                                                NaN   \n13  I'm not on my company's health insurance which...   \n14                                                NaN   \n15  I have chronic low-level neurological issues t...   \n16  My company does provide healthcare but not to ...   \n17                                                NaN   \n18                                                NaN   \n19                                                NaN   \n\n                                       clean_comments  \\\n0                                                       \n1                                                       \n2                                                       \n3                                                       \n4                                                       \n5                                                       \n6                                                       \n7                                                       \n8                                                       \n9                                                       \n10                                                      \n11                                                      \n12                                                      \n13  I'm not on my company's health insurance which...   \n14                                                      \n15  I have chronic low-level neurological issues t...   \n16  My company does provide healthcare but not to ...   \n17                                                      \n18                                                      \n19                                                      \n\n                                   processed_comments sentiment_comments  \n0                                                                neutral  \n1                                                                neutral  \n2                                                                neutral  \n3                                                                neutral  \n4                                                                neutral  \n5                                                                neutral  \n6                                                                neutral  \n7                                                                neutral  \n8                                                                neutral  \n9                                                                neutral  \n10                                                               neutral  \n11                                                               neutral  \n12                                                               neutral  \n13  company health insurance could part reason ans...            neutral  \n14                                                               neutral  \n15  chronic neurological issue mental health side ...           positive  \n16  company provide healthcare contract . mental h...            neutral  \n17                                                               neutral  \n18                                                               neutral  \n19                                                               neutral  ",
      "text/html": "<div>\n<style scoped>\n    .dataframe tbody tr th:only-of-type {\n        vertical-align: middle;\n    }\n\n    .dataframe tbody tr th {\n        vertical-align: top;\n    }\n\n    .dataframe thead th {\n        text-align: right;\n    }\n</style>\n<table border=\"1\" class=\"dataframe\">\n  <thead>\n    <tr style=\"text-align: right;\">\n      <th></th>\n      <th>comments</th>\n      <th>clean_comments</th>\n      <th>processed_comments</th>\n      <th>sentiment_comments</th>\n    </tr>\n  </thead>\n  <tbody>\n    <tr>\n      <th>0</th>\n      <td>NaN</td>\n      <td></td>\n      <td></td>\n      <td>neutral</td>\n    </tr>\n    <tr>\n      <th>1</th>\n      <td>NaN</td>\n      <td></td>\n      <td></td>\n      <td>neutral</td>\n    </tr>\n    <tr>\n      <th>2</th>\n      <td>NaN</td>\n      <td></td>\n      <td></td>\n      <td>neutral</td>\n    </tr>\n    <tr>\n      <th>3</th>\n      <td>NaN</td>\n      <td></td>\n      <td></td>\n      <td>neutral</td>\n    </tr>\n    <tr>\n      <th>4</th>\n      <td>NaN</td>\n      <td></td>\n      <td></td>\n      <td>neutral</td>\n    </tr>\n    <tr>\n      <th>5</th>\n      <td>NaN</td>\n      <td></td>\n      <td></td>\n      <td>neutral</td>\n    </tr>\n    <tr>\n      <th>6</th>\n      <td>NaN</td>\n      <td></td>\n      <td></td>\n      <td>neutral</td>\n    </tr>\n    <tr>\n      <th>7</th>\n      <td>NaN</td>\n      <td></td>\n      <td></td>\n      <td>neutral</td>\n    </tr>\n    <tr>\n      <th>8</th>\n      <td>NaN</td>\n      <td></td>\n      <td></td>\n      <td>neutral</td>\n    </tr>\n    <tr>\n      <th>9</th>\n      <td>NaN</td>\n      <td></td>\n      <td></td>\n      <td>neutral</td>\n    </tr>\n    <tr>\n      <th>10</th>\n      <td>NaN</td>\n      <td></td>\n      <td></td>\n      <td>neutral</td>\n    </tr>\n    <tr>\n      <th>11</th>\n      <td>NaN</td>\n      <td></td>\n      <td></td>\n      <td>neutral</td>\n    </tr>\n    <tr>\n      <th>12</th>\n      <td>NaN</td>\n      <td></td>\n      <td></td>\n      <td>neutral</td>\n    </tr>\n    <tr>\n      <th>13</th>\n      <td>I'm not on my company's health insurance which...</td>\n      <td>I'm not on my company's health insurance which...</td>\n      <td>company health insurance could part reason ans...</td>\n      <td>neutral</td>\n    </tr>\n    <tr>\n      <th>14</th>\n      <td>NaN</td>\n      <td></td>\n      <td></td>\n      <td>neutral</td>\n    </tr>\n    <tr>\n      <th>15</th>\n      <td>I have chronic low-level neurological issues t...</td>\n      <td>I have chronic low-level neurological issues t...</td>\n      <td>chronic neurological issue mental health side ...</td>\n      <td>positive</td>\n    </tr>\n    <tr>\n      <th>16</th>\n      <td>My company does provide healthcare but not to ...</td>\n      <td>My company does provide healthcare but not to ...</td>\n      <td>company provide healthcare contract . mental h...</td>\n      <td>neutral</td>\n    </tr>\n    <tr>\n      <th>17</th>\n      <td>NaN</td>\n      <td></td>\n      <td></td>\n      <td>neutral</td>\n    </tr>\n    <tr>\n      <th>18</th>\n      <td>NaN</td>\n      <td></td>\n      <td></td>\n      <td>neutral</td>\n    </tr>\n    <tr>\n      <th>19</th>\n      <td>NaN</td>\n      <td></td>\n      <td></td>\n      <td>neutral</td>\n    </tr>\n  </tbody>\n</table>\n</div>"
     },
     "execution_count": 80,
     "metadata": {},
     "output_type": "execute_result"
    }
   ],
   "source": [
    "cols = ['comments', 'clean_comments', 'processed_comments', 'sentiment_comments']\n",
    "df[cols].head(20)"
   ],
   "metadata": {
    "collapsed": false,
    "ExecuteTime": {
     "end_time": "2023-08-26T21:58:08.223818584Z",
     "start_time": "2023-08-26T21:58:08.219778342Z"
    }
   },
   "id": "e2e065112ec0538c"
  },
  {
   "cell_type": "code",
   "execution_count": 98,
   "outputs": [],
   "source": [
    "df_sentiment = df[cols]\n",
    "\n",
    "negatives_df = df_sentiment[df_sentiment['sentiment_comments'] == 'negative'][['comments', 'processed_comments']]\n",
    "negatives = negatives_df['comments'].tolist()\n",
    "\n",
    "positives_df = df_sentiment[df_sentiment['sentiment_comments'] == 'positive'][['comments', 'processed_comments']]\n",
    "positives = positives_df['comments'].tolist()\n"
   ],
   "metadata": {
    "collapsed": false,
    "ExecuteTime": {
     "end_time": "2023-08-26T22:08:47.603742704Z",
     "start_time": "2023-08-26T22:08:47.586329838Z"
    }
   },
   "id": "f0d85cc8478b56a7"
  },
  {
   "cell_type": "code",
   "execution_count": 99,
   "outputs": [
    {
     "name": "stdout",
     "output_type": "stream",
     "text": [
      "Our health plan has covered my psychotherapy and my antidepressant medication. My manager has been aware but discreet throughout. I did get negative reviews when my depression was trashing my delivery but y'know I wasn't delivering.\n",
      "\n",
      "In addition to my own mental health issues I've known several coworkers that may be suffering and I don't know how to tell them I empathize and that I want to help.\n",
      "\n",
      "In my previous workplace which had mental health protections policies and access to counsellors my Director went so far as to say to me in somewhat casual conversation A woman was murdered across the street. At best though she was bipolar and at worst - who knowsI have bipolar disorder. I have zero faith that an organization with policies in place could appropriately handle mental health. I have even less faith that a workplace without the policies in place could appropriately handle mental health. I can only imagine it's worse in full tech environments.\n"
     ]
    }
   ],
   "source": [
    "for i in range(3):\n",
    "    print(\"{}\\n\".format(negatives[i]))"
   ],
   "metadata": {
    "collapsed": false,
    "ExecuteTime": {
     "end_time": "2023-08-26T22:08:48.918745184Z",
     "start_time": "2023-08-26T22:08:48.914825217Z"
    }
   },
   "id": "1d542d3e465320a0"
  },
  {
   "cell_type": "code",
   "execution_count": 100,
   "outputs": [
    {
     "name": "stdout",
     "output_type": "stream",
     "text": [
      "I have chronic low-level neurological issues that have mental health side effects. One of my supervisors has also experienced similar neurological problems so I feel more comfortable being open about my issues than I would with someone without that experience. \n",
      "\n",
      "Sometimes I think  about using drugs for my mental health issues. If i use drugs I feel better\n",
      "\n",
      "I selected my current employer based on its policies about self care and the quality of their overall health and wellness benefits. I still have residual caution from previous employers who ranged from ambivalent to indifferent to actively hostile regarding mental health concerns.\n"
     ]
    }
   ],
   "source": [
    "for i in range(3):\n",
    "    print(\"{}\\n\".format(positives[i]))"
   ],
   "metadata": {
    "collapsed": false,
    "ExecuteTime": {
     "end_time": "2023-08-26T22:08:49.539067612Z",
     "start_time": "2023-08-26T22:08:49.524831270Z"
    }
   },
   "id": "849057a109b32a0c"
  },
  {
   "cell_type": "markdown",
   "source": [
    "### 2.2 Frequency"
   ],
   "metadata": {
    "collapsed": false
   },
   "id": "d7bdde4c328c99c0"
  },
  {
   "cell_type": "code",
   "execution_count": 106,
   "outputs": [],
   "source": [
    "def most_common(df, top_n=10):\n",
    "    all_words = [word for word in ' '.join(df['processed_comments']).split() if word not in string.punctuation]\n",
    "    word_counts = Counter(all_words)\n",
    "    top_10_words = word_counts.most_common(top_n)\n",
    "\n",
    "    return top_10_words"
   ],
   "metadata": {
    "collapsed": false,
    "ExecuteTime": {
     "end_time": "2023-08-26T22:11:29.146702614Z",
     "start_time": "2023-08-26T22:11:29.141959745Z"
    }
   },
   "id": "b27ae877ce6ad7ac"
  },
  {
   "cell_type": "code",
   "execution_count": 107,
   "outputs": [
    {
     "name": "stdout",
     "output_type": "stream",
     "text": [
      "[('health', 45), ('mental', 41), ('issue', 22), ('employer', 21), ('depression', 20), ('work', 19), ('would', 15), ('bad', 12), ('people', 12), ('insurance', 12)]\n"
     ]
    }
   ],
   "source": [
    "print(most_common(negatives_df))"
   ],
   "metadata": {
    "collapsed": false,
    "ExecuteTime": {
     "end_time": "2023-08-26T22:11:29.585611068Z",
     "start_time": "2023-08-26T22:11:29.554880762Z"
    }
   },
   "id": "464a2422470dafeb"
  },
  {
   "cell_type": "code",
   "execution_count": 108,
   "outputs": [
    {
     "name": "stdout",
     "output_type": "stream",
     "text": [
      "[('health', 63), ('mental', 55), ('work', 36), ('issue', 30), ('employer', 26), ('company', 25), ('would', 21), ('know', 17), ('people', 17), ('get', 15)]\n"
     ]
    }
   ],
   "source": [
    "print(most_common(positives_df))"
   ],
   "metadata": {
    "collapsed": false,
    "ExecuteTime": {
     "end_time": "2023-08-26T22:11:40.609386117Z",
     "start_time": "2023-08-26T22:11:40.567827954Z"
    }
   },
   "id": "3dbcc43acd7d032"
  },
  {
   "cell_type": "code",
   "execution_count": null,
   "outputs": [],
   "source": [],
   "metadata": {
    "collapsed": false
   },
   "id": "a1767136adc356a2"
  }
 ],
 "metadata": {
  "kernelspec": {
   "display_name": "Python 3",
   "language": "python",
   "name": "python3"
  },
  "language_info": {
   "codemirror_mode": {
    "name": "ipython",
    "version": 2
   },
   "file_extension": ".py",
   "mimetype": "text/x-python",
   "name": "python",
   "nbconvert_exporter": "python",
   "pygments_lexer": "ipython2",
   "version": "2.7.6"
  }
 },
 "nbformat": 4,
 "nbformat_minor": 5
}
